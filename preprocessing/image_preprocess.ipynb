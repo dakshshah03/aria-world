{
 "cells": [
  {
   "cell_type": "markdown",
   "id": "e6eb28d6",
   "metadata": {},
   "source": [
    "# Jupyter notebook for image preprocessing for colmap\n",
    "this notebook is for testing before modularizing and cleaning up the code"
   ]
  },
  {
   "cell_type": "code",
   "execution_count": null,
   "id": "5b240c98",
   "metadata": {},
   "outputs": [],
   "source": [
    "from projectaria_tools.projects.aea import AriaEverydayActivitiesDataPathsProvider, AriaEverydayActivitiesDataProvider\n",
    "from projectaria_tools.core import data_provider, calibration\n",
    "from projectaria_tools.core.sensor_data import TimeDomain, TimeQueryOptions\n",
    "from projectaria_tools.core.stream_id import RecordableTypeId, StreamId"
   ]
  },
  {
   "cell_type": "markdown",
   "id": "3161b25e",
   "metadata": {},
   "source": [
    "Create data provider"
   ]
  },
  {
   "cell_type": "code",
   "execution_count": null,
   "id": "28c9edd1",
   "metadata": {},
   "outputs": [],
   "source": [
    "data_path = \"./../data/loc1_script2_seq1_rec1_10s_sample/recording.vrs\"\n",
    "frame_step = 1\n",
    "output_dir = \"./../data/loc1_script2_seq1_rec1_10s_sample/images\""
   ]
  },
  {
   "cell_type": "markdown",
   "id": "4c3d06b3",
   "metadata": {},
   "source": [
    "### Image undistortion \n",
    "Given a rgb video stream from a given VRS file, this will undistort and split it into images."
   ]
  },
  {
   "cell_type": "code",
   "execution_count": null,
   "id": "72e395f8",
   "metadata": {},
   "outputs": [],
   "source": [
    "from PIL import Image\n",
    "import numpy as np\n",
    "\n",
    "def undistort(provider):\n",
    "    sensor_name = \"camera-rgb\"\n",
    "    stream_id = provider.get_stream_id_from_label(sensor_name)\n",
    "    device_calib = provider.get_device_calibration()\n",
    "    src_calib = device_calib.get_camera_calib(sensor_name)\n",
    "    input_calib_width = src_calib.get_image_size()[0]\n",
    "    input_calib_height = src_calib.get_image_size()[1]\n",
    "    input_calib_focal = src_calib.get_focal_lengths()[0]\n",
    "    dst_calib = calibration.get_linear_camera_calibration(int(input_calib_width)-120, int(input_calib_height)-120, input_calib_focal, sensor_name)\n",
    "    \n",
    "    preimages = []\n",
    "    images = []\n",
    "    for i in range(0, provider.get_num_data(stream_id)):\n",
    "        raw_image = provider.get_image_data_by_index(stream_id, i)[0].to_numpy_array()\n",
    "        undistorted_image = calibration.distort_by_calibration(raw_image, dst_calib, src_calib)\n",
    "        \n",
    "        preimages.append(Image.fromarray(raw_image))\n",
    "        im = Image.fromarray(np.rot90(undistorted_image, k=3))\n",
    "        images.append(im)\n",
    "    return images\n",
    "    \n",
    "# output = undistort(provider)"
   ]
  },
  {
   "cell_type": "markdown",
   "id": "cac03312",
   "metadata": {},
   "source": [
    "## Save Images to a directory"
   ]
  },
  {
   "cell_type": "code",
   "execution_count": null,
   "id": "85ab2c2e",
   "metadata": {},
   "outputs": [],
   "source": [
    "from tqdm import tqdm\n",
    "import os\n",
    "def save_frames(images, output_dir, frame_step=1):\n",
    "    count = 0\n",
    "    os.makedirs(output_dir, exist_ok=True)\n",
    "    with tqdm(total=len(images)) as pbar:\n",
    "        while count < len(images):\n",
    "            if(count % frame_step == 0):\n",
    "                image = images[count]\n",
    "                image.save(f\"{output_dir}/frame_{count:04d}.jpg\")\n",
    "            \n",
    "            count += 1\n",
    "            pbar.update(1)\n",
    "# save_frames(output, \"./output\", 1)"
   ]
  },
  {
   "cell_type": "markdown",
   "id": "4d9a00bc",
   "metadata": {},
   "source": [
    "## Combining these two into one function to be more efficient"
   ]
  },
  {
   "cell_type": "code",
   "execution_count": null,
   "id": "c2d85050",
   "metadata": {},
   "outputs": [],
   "source": [
    "def process_vrs(vrs_path, output_dir, frame_step=1):\n",
    "    provider = data_provider.create_vrs_data_provider(vrs_path)\n",
    "    \n",
    "    sensor_name = \"camera-rgb\"\n",
    "    stream_id = provider.get_stream_id_from_label(sensor_name)\n",
    "    device_calib = provider.get_device_calibration()\n",
    "    src_calib = device_calib.get_camera_calib(sensor_name)\n",
    "    input_calib_width = src_calib.get_image_size()[0]\n",
    "    input_calib_height = src_calib.get_image_size()[1]\n",
    "    input_calib_focal = src_calib.get_focal_lengths()[0]\n",
    "    dst_calib = calibration.get_linear_camera_calibration(int(input_calib_width)-120, int(input_calib_height)-120, input_calib_focal, sensor_name)\n",
    "    \n",
    "    os.makedirs(output_dir, exist_ok=True)\n",
    "    \n",
    "    num_frames = provider.get_num_data(stream_id)\n",
    "    with tqdm(total=num_frames) as pbar:\n",
    "        for count in range(provider.get_num_data(stream_id)):\n",
    "            if(count % frame_step == 0):\n",
    "                raw_image = provider.get_image_data_by_index(stream_id, count)[0].to_numpy_array()\n",
    "                undistorted_image = calibration.distort_by_calibration(raw_image, dst_calib, src_calib)\n",
    "                \n",
    "                image = Image.fromarray(np.rot90(undistorted_image, k=3))\n",
    "                image.save(f\"{output_dir}/frame_{count:04d}.jpg\")\n",
    "            count += 1\n",
    "            pbar.update(1)     \n",
    "            \n",
    "process_vrs(data_path, output_dir, 1) "
   ]
  }
 ],
 "metadata": {
  "kernelspec": {
   "display_name": "Python 3",
   "language": "python",
   "name": "python3"
  },
  "language_info": {
   "codemirror_mode": {
    "name": "ipython",
    "version": 3
   },
   "file_extension": ".py",
   "mimetype": "text/x-python",
   "name": "python",
   "nbconvert_exporter": "python",
   "pygments_lexer": "ipython3",
   "version": "3.10.17"
  }
 },
 "nbformat": 4,
 "nbformat_minor": 5
}
